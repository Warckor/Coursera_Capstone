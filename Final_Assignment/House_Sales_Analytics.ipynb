{
  "nbformat": 4,
  "nbformat_minor": 0,
  "metadata": {
    "colab": {
      "name": "House Sales Analytics.ipynb",
      "provenance": [],
      "collapsed_sections": [],
      "authorship_tag": "ABX9TyP/Wmw4V8VOrVU1MnDO0rmm",
      "include_colab_link": true
    },
    "kernelspec": {
      "name": "python3",
      "display_name": "Python 3"
    }
  },
  "cells": [
    {
      "cell_type": "markdown",
      "metadata": {
        "id": "view-in-github",
        "colab_type": "text"
      },
      "source": [
        "<a href=\"https://colab.research.google.com/github/Warckor/Coursera_Capstone/blob/main/Final_Assignment/House_Sales_Analytics.ipynb\" target=\"_parent\"><img src=\"https://colab.research.google.com/assets/colab-badge.svg\" alt=\"Open In Colab\"/></a>"
      ]
    },
    {
      "cell_type": "markdown",
      "metadata": {
        "id": "PaymJNloH5Nv"
      },
      "source": [
        "# House Sales in Madrid\r\n",
        "## Final Assignment\r\n",
        "#### Miguel Gorostola Espadiña\r\n"
      ]
    },
    {
      "cell_type": "markdown",
      "metadata": {
        "id": "fLm00EU0Ij3m"
      },
      "source": [
        "## Introduction \r\n",
        "\r\n",
        "Este es un proyecto para el Capstone del certificado de IBM Data Science. En el debo utilizar todo lo estudiado en los modulos anteriores para generar un notebook que analice un problema de negocio o, como en este caso, un estudio de posibilidad de negocio."
      ]
    },
    {
      "cell_type": "markdown",
      "metadata": {
        "id": "IQJfMoiyJXka"
      },
      "source": [
        ">### A. Business Case\r\n",
        ">\r\n",
        ">>Voy a realizar un estudio de mercado donde podremos analizar la evolución de los precios de las viviendas y locales en Madrid (España) por metros cuadrados. A esto, vamos a incluir los tipos de negocio que se encuentran en los alrededores de los distritos principales de Madrid.\r\n",
        ">>\r\n",
        ">>Con ello se pretende obtener una clasificación donde pueda analizar la mejor zona, o la de mayor interes, en caso de querer abrir un nuevo negocio por el precio de venta del distrito o por el tipo de negocios que se encuentran alrededor.\r\n",
        ">>\r\n",
        ">>En primer lugar realizare un análisis de la evolución del coste medio por metro cuadrado de los distintos distritos de Madrid. Con ello, podré visualizar la proyección ascendente o descendente del coste y valorar que distrito sería mas rentable en el futuro para comprar un local.\r\n",
        ">>\r\n",
        ">>Posteriormente, podre analizar por distrito:\r\n",
        ">>\r\n",
        ">>*   La zona más económicas donde comprar un local para nuestro nuevo negocio.\r\n",
        ">>*   Los tipos de negocio que nos econtramos por distritos.\r\n",
        ">>*   Donde encontramos un mayor volumen de negocios, lo cual implica una mayor cantidad de actividad de mercado.\r\n",
        ">>*   En que distrito tenemos mayor probabilidad de crear un negocio que no se encuentra en la zona, de modo que se pueda aprovechar la novedad.\r\n",
        "\r\n",
        "\r\n",
        "\r\n",
        "\r\n",
        "\r\n",
        "\r\n",
        "\r\n",
        "\r\n"
      ]
    },
    {
      "cell_type": "markdown",
      "metadata": {
        "id": "e6xSZPmVKTb8"
      },
      "source": [
        ">### B. Data\r\n",
        ">\r\n",
        ">> Los datos utilizados para este estudio se obtendrán de:\r\n",
        ">>\r\n",
        ">>*   Centro de Estadistica de la Comunidad de Madrid (\r\n",
        ">>*   Elemento de lista\r\n",
        "\r\n"
      ]
    }
  ]
}