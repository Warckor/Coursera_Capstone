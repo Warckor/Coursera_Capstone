{
  "nbformat": 4,
  "nbformat_minor": 0,
  "metadata": {
    "colab": {
      "name": "House Sales Analytics.ipynb",
      "provenance": [],
      "collapsed_sections": [],
      "authorship_tag": "ABX9TyPJQ9Cvd1mheFNXk0y0bciE",
      "include_colab_link": true
    },
    "kernelspec": {
      "name": "python3",
      "display_name": "Python 3"
    }
  },
  "cells": [
    {
      "cell_type": "markdown",
      "metadata": {
        "id": "view-in-github",
        "colab_type": "text"
      },
      "source": [
        "<a href=\"https://colab.research.google.com/github/Warckor/Coursera_Capstone/blob/main/Final_Assignment/House_Sales_Analytics.ipynb\" target=\"_parent\"><img src=\"https://colab.research.google.com/assets/colab-badge.svg\" alt=\"Open In Colab\"/></a>"
      ]
    },
    {
      "cell_type": "markdown",
      "metadata": {
        "id": "PaymJNloH5Nv"
      },
      "source": [
        "# House Sales in Madrid\r\n",
        "## Final Assignment\r\n",
        "#### Miguel Gorostola Espadiña\r\n"
      ]
    },
    {
      "cell_type": "markdown",
      "metadata": {
        "id": "fLm00EU0Ij3m"
      },
      "source": [
        "## Introduction "
      ]
    },
    {
      "cell_type": "markdown",
      "metadata": {
        "id": "IQJfMoiyJXka"
      },
      "source": [
        ">### A. Business Case\r\n",
        "\r\n",
        ">>Vamos a generar un estudio de mercado donde podremos analizar la evolución de los precios de las viviendas y locales en Madrid (España) por metros cuadrados. A esto, vamos a incluir los tipos de negocio que se encuentran en los alrededores de los distritos principales de Madrid.\r\n",
        "\r\n",
        ">>Con ello se pretende obtener una clasificación donde podamos analizar la mejor zona, o la de mayor interes, en caso de querer abrir un nuevo negocio por el precio de venta del distrito o por el tipo de negocios que se encuentran alrededor.\r\n",
        "\r\n",
        ">>Si\r\n",
        "\r\n",
        "\r\n"
      ]
    },
    {
      "cell_type": "code",
      "metadata": {
        "id": "e6xSZPmVKTb8"
      },
      "source": [
        ""
      ],
      "execution_count": null,
      "outputs": []
    }
  ]
}